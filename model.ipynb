{
 "cells": [
  {
   "cell_type": "code",
   "execution_count": 1,
   "id": "06f1150c",
   "metadata": {},
   "outputs": [],
   "source": [
    "from langchain_groq import ChatGroq"
   ]
  },
  {
   "cell_type": "code",
   "execution_count": 2,
   "id": "4e2f0792",
   "metadata": {},
   "outputs": [],
   "source": [
    "with open(\"key.txt\", \"r\") as f:\n",
    "    api_key=f.readline().strip()"
   ]
  },
  {
   "cell_type": "code",
   "execution_count": 3,
   "id": "0341c214",
   "metadata": {},
   "outputs": [],
   "source": [
    "llm = ChatGroq(temperature=0, groq_api_key=api_key, model_name=\"llama-3.1-70b-versatile\")"
   ]
  },
  {
   "cell_type": "code",
   "execution_count": 4,
   "id": "49f761a1",
   "metadata": {},
   "outputs": [],
   "source": [
    "response=llm.invoke(\"what is moon?\")"
   ]
  },
  {
   "cell_type": "code",
   "execution_count": 6,
   "id": "fa075151",
   "metadata": {},
   "outputs": [
    {
     "data": {
      "text/plain": [
       "'The Moon is Earth\\'s only natural satellite, a celestial body that orbits our planet. It is the fifth-largest moon in the solar system and is thought to have formed about 4.5 billion years ago, not long after the formation of the Earth.\\n\\nHere are some key facts about the Moon:\\n\\n1. **Orbit**: The Moon orbits the Earth at an average distance of about 239,000 miles (384,000 kilometers).\\n2. **Size**: The Moon is much smaller than the Earth, with a diameter of about 2,159 miles (3,475 kilometers).\\n3. **Composition**: The Moon is a rocky, airless body composed of silicate minerals, metals, and other inorganic compounds.\\n4. **Surface**: The Moon\\'s surface is characterized by mountains, craters, and lava flows, with the dark areas known as \"seas\" (or maria) being vast, solidified pools of lava.\\n5. **Phases**: The Moon goes through eight distinct phases as it orbits the Earth, including the new moon, waxing crescent, first quarter, waxing gibbous, full moon, waning gibbous, last quarter, and waning crescent.\\n6. **Gravity**: The Moon\\'s surface gravity is about one-sixth of the Earth\\'s surface gravity, which is why astronauts can jump higher on the Moon than on Earth.\\n7. **Atmosphere**: The Moon has no atmosphere, which means there is no air, weather, or sound on the Moon.\\n8. **Temperature**: The Moon\\'s surface temperature can range from extremely cold to extremely hot, depending on the time of day and the amount of sunlight it receives.\\n\\nThe Moon has been an important part of human culture and exploration, with many spacecraft having visited the Moon, including NASA\\'s Apollo missions, which successfully landed astronauts on the Moon\\'s surface in the late 1960s and early 1970s.'"
      ]
     },
     "execution_count": 6,
     "metadata": {},
     "output_type": "execute_result"
    }
   ],
   "source": [
    "response.content"
   ]
  },
  {
   "cell_type": "code",
   "execution_count": null,
   "id": "20ca6c0f",
   "metadata": {},
   "outputs": [],
   "source": []
  },
  {
   "cell_type": "code",
   "execution_count": null,
   "id": "250fdc28",
   "metadata": {},
   "outputs": [],
   "source": []
  }
 ],
 "metadata": {
  "kernelspec": {
   "display_name": "Python 3 (ipykernel)",
   "language": "python",
   "name": "python3"
  },
  "language_info": {
   "codemirror_mode": {
    "name": "ipython",
    "version": 3
   },
   "file_extension": ".py",
   "mimetype": "text/x-python",
   "name": "python",
   "nbconvert_exporter": "python",
   "pygments_lexer": "ipython3",
   "version": "3.10.5"
  }
 },
 "nbformat": 4,
 "nbformat_minor": 5
}
