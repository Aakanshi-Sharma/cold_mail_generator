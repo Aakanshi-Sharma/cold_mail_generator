{
 "cells": [
  {
   "cell_type": "markdown",
   "id": "b559811e",
   "metadata": {},
   "source": [
    "IMPORTING LIBRARIES"
   ]
  },
  {
   "cell_type": "code",
   "execution_count": 1,
   "id": "30821f86",
   "metadata": {},
   "outputs": [],
   "source": [
    "from langchain_groq import ChatGroq"
   ]
  },
  {
   "cell_type": "markdown",
   "id": "f00671b3",
   "metadata": {},
   "source": [
    "IMPORTING FILE"
   ]
  },
  {
   "cell_type": "code",
   "execution_count": 2,
   "id": "33f9f436",
   "metadata": {},
   "outputs": [],
   "source": [
    "with open(\"key.txt\", \"r\") as f:\n",
    "    api_key=f.readline().strip()"
   ]
  },
  {
   "cell_type": "markdown",
   "id": "9168b0e5",
   "metadata": {},
   "source": [
    "INITIALIZE LLM MODEL"
   ]
  },
  {
   "cell_type": "code",
   "execution_count": 3,
   "id": "0a33d63d",
   "metadata": {},
   "outputs": [],
   "source": [
    "llm = ChatGroq(temperature=0, groq_api_key=api_key, model_name=\"llama-3.1-70b-versatile\")"
   ]
  },
  {
   "cell_type": "markdown",
   "id": "77c8ca63",
   "metadata": {},
   "source": [
    "WEB SCRAPING"
   ]
  },
  {
   "cell_type": "code",
   "execution_count": 4,
   "id": "5e97cd00",
   "metadata": {},
   "outputs": [
    {
     "name": "stderr",
     "output_type": "stream",
     "text": [
      "USER_AGENT environment variable not set, consider setting it to identify your requests.\n"
     ]
    }
   ],
   "source": [
    "from langchain_community.document_loaders import WebBaseLoader\n",
    "\n",
    "\n",
    "def loading_web(url):\n",
    "    loader = WebBaseLoader(url)\n",
    "    page_data=loader.load()\n",
    "    print(page_data)\n",
    "    return page_data"
   ]
  },
  {
   "cell_type": "code",
   "execution_count": 6,
   "id": "c3258048",
   "metadata": {},
   "outputs": [
    {
     "name": "stdout",
     "output_type": "stream",
     "text": [
      "[Document(metadata={'source': 'https://walmart.wd5.myworkdayjobs.com/en-US/WalmartExternal/job/IN-KA-BANGALORE-Home-Office-Building-11/SOFTWARE-ENGINEER-III_R-2049883-1', 'title': '', 'description': \"Position Summary... Demonstrates up-to-date expertise and applies this to the development, execution, and improvement of action plans by providing expert advice and guidance to others in the application of information and best practices; supporting and aligning efforts to meet customer and business needs; and building commitment for perspectives and rationales. Provides and supports the implementation of business solutions by building relationships and partnerships with key stakeholders; identifying business needs; determining and carrying out necessary processes and practices; monitoring progress and results; recognizing and capitalizing on improvement opportunities; and adapting to competing demands, organizational changes, and new responsibilities. Models compliance with company policies and procedures and supports company mission, values, and standards of ethics and integrity by incorporating these into the development and implementation of business plans; using the Open Door Policy; and demonstrating and assisting others with how to apply these in executing business processes and practices. What you'll do... About Team: Sams Club team at Walmart Global Tech, Bengaluru, is focused on improving Sams Club member experience across both physical &amp; digital and make Clubs the most exciting place to shop. We are accountable &amp; responsible for number of critical eCommerce systems such as Cart &amp; Checkout, Inventory Management &amp; Sourcing Optimizations, Order Fulfillment &amp; Returns experiences, Digital Marketing &amp; Pharmacy refills. We are growing and establishing Innovation Labs in India where the best &amp; brightest engineers would be working alongside our teams in USA to further use technology to make such member experiences friction free. What you'll do: At Sam’s Club in Walmart Global Tech, Bangalore you will work in small team of talented engineers to build robust, distributed and scalable applications. Be given the freedom to try new things and prove the value of your own ideas and innovations and own them all the way to production. You main responsibilities includes: Code and develop interactive, user-friendly applications using the latest frameworks which are open source. Design, code, unit test, write integration test, review peer code and deploy cutting edge solutions at scale, impacting millions of customers worldwide. Interact with different engineering teams across geographies to leverage their expertise and solution to build world class product. Engage with Product Management and Business to understand the requirement, set priorities and deliver awesome products. Ensure business needs are being met by building software product using best practices. Participate in internal Hackathons and innovation challenges. Must be able to work effectively in both team settings and individually. Communicate and collaborate with external teams and stakeholders. What you'll bring: Mandatory Technical Skills: Bachelor's or Master’s degree in Computer Science or related technical field 3 to 7 years of total experience in developing Enterprise scale product and applications Strong computer science fundamentals - Data Structures, Algorithms and Design Patterns Strong hands-on coding experience in Java and Spring Boot Strong in writing complex, highly-optimized SQL queries across large data sets Experience in building Distributed Systems using Microservices architecture Experience of building CI/CD pipeline using Jenkins, Sonar. Experience of working in Docker, Kubernetes and Jenkins Desirable skills: Working experience in GCP/Azure/AWS cloud platforms Experience in Architecture and Design for building enterprise scale product with focus on scalability, low-latency, and fault-tolerance Knowledge of Open Source Tools – Kafka, Elastic Search, Kibana, AI/ML exposure and React UI are preferable Any Exposure to Data Engineering will have added advantage Experience of Automation and Scripting Technologies About Walmart Global Tech Imagine working in an environment where one line of code can make life easier for hundreds of millions of people. That’s what we do at Walmart Global Tech. We’re a team of software engineers, data scientists, cybersecurity expert's and service professionals within the world’s leading retailer who make an epic impact and are at the forefront of the next retail disruption. People are why we innovate, and people power our innovations. We are people-led and tech-empowered. We train our team in the skillsets of the future and bring in experts like you to help us grow. We have roles for those chasing their first opportunity as well as those looking for the opportunity that will define their career. Here, you can kickstart a great career in tech, gain new skills and experience for virtually every industry, or leverage your expertise to innovate at scale, impact millions and reimagine the future of retail. Flexible, hybrid work: We use a hybrid way of working that is primarily in office coupled with virtual when not onsite. Our campuses serve as a hub to enhance collaboration, bring us together for purpose and deliver on business needs. This approach helps us make quicker decisions, remove location barriers across our global team and be more flexible in our personal lives. Benefits: Benefits: Beyond our great compensation package, you can receive incentive awards for your performance. Other great perks include 401(k) match, stock purchase plan, paid maternity and parental leave, PTO, multiple health plans, and much more. Equal Opportunity Employer: Walmart, Inc. is an Equal Opportunity Employer – By Choice. We believe we are best equipped to help our associates, customers and the communities we serve live better when we really know them. That means understanding, respecting and valuing diversity- unique styles, experiences, identities, ideas and opinions – while being inclusive of all people. The above information has been designed to indicate the general nature and level of work performed in the role. It is not designed to contain or be interpreted as a comprehensive inventory of all responsibilities and qualifications required of employees assigned to this job. The full Job Description can be made available as part of the hiring process. Minimum Qualifications... Outlined below are the required minimum qualifications for this position. If none are listed, there are no minimum qualifications. Minimum Qualifications:Option 1: Bachelor's degree in computer science, information technology, engineering, information systems, cybersecurity, or related area and 2years’ experience in software engineering or related area at a technology, retail, or data-driven company. Option 2: 4 years’ experience in software engineering or related area at a technology, retail, or data-driven company. Preferred Qualifications... Outlined below are the optional preferred qualifications for this position. If none are listed, there are no preferred qualifications. Certification in Security+, Network+, GISF, GSEC, CISSP, or CCSP, Master’s degree in Computer Science, Information Technology, Engineering, Information Systems, Cybersecurity, or related area Primary Location... G, 1, 3, 4, 5 Floor, Building 11, Sez, Cessna Business Park, Kadubeesanahalli Village, Varthur Hobli , India About Walmart: Fifty years ago, Sam Walton started a single mom-and-pop shop and transformed it into the world's biggest retailer. Since those founding days, one thing has remained consistent: our commitment to helping our customers save money so they can live better. Today, we're reinventing the shopping experience and our associates are at the heart of it. You'll play a crucial role in shaping the future of retail, improving millions of lives around the world. This is that place where your passions meet purpose. Join our family and create a career you're proud of.\", 'language': 'en-US'}, page_content='\\n\\n\\n\\n\\n\\n\\n\\n\\n\\n\\n\\n\\n\\n\\n\\n\\n\\n\\n\\n\\n\\n')]\n"
     ]
    }
   ],
   "source": [
    "data=loading_web(\"https://walmart.wd5.myworkdayjobs.com/en-US/WalmartExternal/job/IN-KA-BANGALORE-Home-Office-Building-11/SOFTWARE-ENGINEER-III_R-2049883-1\")"
   ]
  },
  {
   "cell_type": "code",
   "execution_count": 13,
   "id": "a3cc7ed5",
   "metadata": {},
   "outputs": [],
   "source": [
    "job_details=data[0].metadata[\"description\"]"
   ]
  },
  {
   "cell_type": "code",
   "execution_count": 14,
   "id": "3ccbe9ff",
   "metadata": {},
   "outputs": [
    {
     "ename": "TypeError",
     "evalue": "BaseModel.__init__() takes 1 positional argument but 2 were given",
     "output_type": "error",
     "traceback": [
      "\u001b[1;31m---------------------------------------------------------------------------\u001b[0m",
      "\u001b[1;31mTypeError\u001b[0m                                 Traceback (most recent call last)",
      "Input \u001b[1;32mIn [14]\u001b[0m, in \u001b[0;36m<cell line: 3>\u001b[1;34m()\u001b[0m\n\u001b[0;32m      1\u001b[0m \u001b[38;5;28;01mfrom\u001b[39;00m \u001b[38;5;21;01mlangchain_core\u001b[39;00m\u001b[38;5;21;01m.\u001b[39;00m\u001b[38;5;21;01mprompts\u001b[39;00m \u001b[38;5;28;01mimport\u001b[39;00m PromptTemplate\n\u001b[1;32m----> 3\u001b[0m prompts_extract \u001b[38;5;241m=\u001b[39m\u001b[43mPromptTemplate\u001b[49m\u001b[43m(\u001b[49m\n\u001b[0;32m      4\u001b[0m \u001b[38;5;124;43;03m\"\"\" \u001b[39;49;00m\n\u001b[0;32m      5\u001b[0m \u001b[38;5;124;43;03m### SCRAPED TEXT FROM WEBSITE:\u001b[39;49;00m\n\u001b[0;32m      6\u001b[0m \u001b[38;5;124;43;03m{page_data}\u001b[39;49;00m\n\u001b[0;32m      7\u001b[0m \u001b[38;5;124;43;03m### INSTRUCTION:\u001b[39;49;00m\n\u001b[0;32m      8\u001b[0m \u001b[38;5;124;43;03mThe scraped text is from the career's page of a wesite.\u001b[39;49;00m\n\u001b[0;32m      9\u001b[0m \u001b[38;5;124;43;03mYour job is to extract the job postings and return them in JSON format containing \u001b[39;49;00m\n\u001b[0;32m     10\u001b[0m \u001b[38;5;124;43;03mfollowing keys : `role`, `experience`, `skills` and `description`.\u001b[39;49;00m\n\u001b[0;32m     11\u001b[0m \u001b[38;5;124;43;03mOnly return the valid json\u001b[39;49;00m\n\u001b[0;32m     12\u001b[0m \u001b[38;5;124;43;03m### VALID JSON (NO PREAMBLE):\u001b[39;49;00m\n\u001b[0;32m     13\u001b[0m \u001b[38;5;124;43;03m\"\"\"\u001b[39;49;00m\n\u001b[0;32m     14\u001b[0m \u001b[43m)\u001b[49m\n\u001b[0;32m     16\u001b[0m chain_extract \u001b[38;5;241m=\u001b[39m prompt_extract \u001b[38;5;241m|\u001b[39m llm\n",
      "File \u001b[1;32m~\\AppData\\Local\\Programs\\Python\\Python310\\lib\\site-packages\\langchain_core\\load\\serializable.py:125\u001b[0m, in \u001b[0;36mSerializable.__init__\u001b[1;34m(self, *args, **kwargs)\u001b[0m\n\u001b[0;32m    123\u001b[0m \u001b[38;5;28;01mdef\u001b[39;00m \u001b[38;5;21m__init__\u001b[39m(\u001b[38;5;28mself\u001b[39m, \u001b[38;5;241m*\u001b[39margs: Any, \u001b[38;5;241m*\u001b[39m\u001b[38;5;241m*\u001b[39mkwargs: Any) \u001b[38;5;241m-\u001b[39m\u001b[38;5;241m>\u001b[39m \u001b[38;5;28;01mNone\u001b[39;00m:\n\u001b[0;32m    124\u001b[0m     \u001b[38;5;124;03m\"\"\"\"\"\"\u001b[39;00m\n\u001b[1;32m--> 125\u001b[0m     \u001b[38;5;28msuper\u001b[39m()\u001b[38;5;241m.\u001b[39m\u001b[38;5;21m__init__\u001b[39m(\u001b[38;5;241m*\u001b[39margs, \u001b[38;5;241m*\u001b[39m\u001b[38;5;241m*\u001b[39mkwargs)\n",
      "\u001b[1;31mTypeError\u001b[0m: BaseModel.__init__() takes 1 positional argument but 2 were given"
     ]
    }
   ],
   "source": [
    "from langchain_core.prompts import PromptTemplate\n",
    "\n",
    "prompts_extract =PromptTemplate(\n",
    "\"\"\" \n",
    "### SCRAPED TEXT FROM WEBSITE:\n",
    "{page_data}\n",
    "### INSTRUCTION:\n",
    "The scraped text is from the career's page of a wesite.\n",
    "Your job is to extract the job postings and return them in JSON format containing \n",
    "following keys : `role`, `experience`, `skills` and `description`.\n",
    "Only return the valid json\n",
    "### VALID JSON (NO PREAMBLE):\n",
    "\"\"\"\n",
    ")\n",
    "\n",
    "chain_extract = prompt_extract | llm "
   ]
  },
  {
   "cell_type": "code",
   "execution_count": null,
   "id": "5ffcc154",
   "metadata": {},
   "outputs": [],
   "source": []
  }
 ],
 "metadata": {
  "kernelspec": {
   "display_name": "Python 3 (ipykernel)",
   "language": "python",
   "name": "python3"
  },
  "language_info": {
   "codemirror_mode": {
    "name": "ipython",
    "version": 3
   },
   "file_extension": ".py",
   "mimetype": "text/x-python",
   "name": "python",
   "nbconvert_exporter": "python",
   "pygments_lexer": "ipython3",
   "version": "3.10.5"
  }
 },
 "nbformat": 4,
 "nbformat_minor": 5
}
